{
 "cells": [
  {
   "cell_type": "markdown",
   "metadata": {},
   "source": [
    "# Opérations logiques\n",
    "\n",
    "Une opération de comparaison donne les deux valeurs `True` et `False`."
   ]
  },
  {
   "cell_type": "code",
   "execution_count": 23,
   "metadata": {},
   "outputs": [
    {
     "data": {
      "text/plain": [
       "True"
      ]
     },
     "execution_count": 23,
     "metadata": {},
     "output_type": "execute_result"
    }
   ],
   "source": [
    "x = 2\n",
    "x > 0"
   ]
  },
  {
   "cell_type": "markdown",
   "metadata": {},
   "source": [
    "La la fonction `not` inverse la valeur logique."
   ]
  },
  {
   "cell_type": "code",
   "execution_count": 11,
   "metadata": {},
   "outputs": [
    {
     "name": "stdout",
     "output_type": "stream",
     "text": [
      "p\tnot p\n",
      "False\tTrue\n",
      "True\tFalse\n"
     ]
    }
   ],
   "source": [
    "print('p', 'not p', sep='\\t')\n",
    "for p in (False, True):\n",
    "    print(p, not p, sep='\\t')"
   ]
  },
  {
   "cell_type": "markdown",
   "metadata": {},
   "source": [
    "## opérateur AND"
   ]
  },
  {
   "cell_type": "code",
   "execution_count": 6,
   "metadata": {},
   "outputs": [
    {
     "name": "stdout",
     "output_type": "stream",
     "text": [
      "p\tq\tp and q\n",
      "False\tFalse\tFalse\n",
      "False\tTrue\tFalse\n",
      "True\tFalse\tFalse\n",
      "True\tTrue\tTrue\n"
     ]
    }
   ],
   "source": [
    "print('p', 'q', 'p and q', sep='\\t')\n",
    "for p in (False, True):\n",
    "    for q in (False, True):\n",
    "        print(p, q, p and q, sep='\\t')"
   ]
  },
  {
   "cell_type": "markdown",
   "metadata": {},
   "source": [
    "## opérateur OR\n",
    "\n",
    "L'opérateur logique `or` retourne vrai si au moins un des opérandes est vrai."
   ]
  },
  {
   "cell_type": "code",
   "execution_count": 7,
   "metadata": {},
   "outputs": [
    {
     "name": "stdout",
     "output_type": "stream",
     "text": [
      "p\tq\tp or q\n",
      "False\tFalse\tFalse\n",
      "False\tTrue\tTrue\n",
      "True\tFalse\tTrue\n",
      "True\tTrue\tTrue\n"
     ]
    }
   ],
   "source": [
    "print('p', 'q', 'p or q', sep='\\t')\n",
    "for p in (False, True):\n",
    "    for q in (False, True):\n",
    "        print(p, q, p or q, sep='\\t')"
   ]
  },
  {
   "cell_type": "markdown",
   "metadata": {},
   "source": [
    "## Heading 2"
   ]
  },
  {
   "cell_type": "markdown",
   "metadata": {},
   "source": [
    "### Heading 3"
   ]
  },
  {
   "cell_type": "markdown",
   "metadata": {},
   "source": [
    "#### Heading 4"
   ]
  },
  {
   "cell_type": "markdown",
   "metadata": {},
   "source": [
    "### Listes\n",
    "\n",
    "#### A puce\n",
    "\n",
    "- item\n",
    "- item\n",
    "- item\n",
    "\n",
    "#### Numérotées\n",
    "\n",
    "1. item\n",
    "1. item\n",
    "1. item\n",
    "\n",
    "### Styles \n",
    "\n",
    "**bold**,  *italics*, `code`, ``code``\n",
    "\n",
    "### Formules mathématiques\n",
    "\n",
    "inline $x_2$ formule \n",
    "\n",
    "display formule\n",
    "\n",
    "$$ c^2 = a^2 + b^2 $$"
   ]
  },
  {
   "cell_type": "markdown",
   "metadata": {},
   "source": [
    "### Kanjis et emojis"
   ]
  },
  {
   "cell_type": "code",
   "execution_count": 24,
   "metadata": {},
   "outputs": [],
   "source": [
    "liste = ['夢', '龍', '空手']"
   ]
  },
  {
   "cell_type": "code",
   "execution_count": 25,
   "metadata": {},
   "outputs": [
    {
     "name": "stdout",
     "output_type": "stream",
     "text": [
      "夢\n",
      "龍\n",
      "空手\n"
     ]
    }
   ],
   "source": [
    "for x in liste:\n",
    "    print(x)"
   ]
  },
  {
   "cell_type": "code",
   "execution_count": 26,
   "metadata": {},
   "outputs": [
    {
     "name": "stdout",
     "output_type": "stream",
     "text": [
      "😀\n",
      "🍎\n",
      "😍\n"
     ]
    }
   ],
   "source": [
    "emoji = ['😀', '🍎', '😍']\n",
    "for x in emoji:\n",
    "    print(x)"
   ]
  },
  {
   "cell_type": "markdown",
   "metadata": {},
   "source": [
    "## Turtle Art \n",
    "\n",
    "![patches](turtleart_patches.png)  \n",
    "[Source](turttleart_patches.py)"
   ]
  },
  {
   "cell_type": "markdown",
   "metadata": {},
   "source": [
    " This is the code: \n",
    " \n",
    "    # %load turtleart_patches.py\n",
    "    # book 2 - patches\n",
    "    from turtle import *\n",
    "    from colorsys import hls_to_rgb\n",
    "    from random import randint, uniform\n",
    "\n",
    "    bgcolor('black')\n",
    "    up()\n",
    "    speed(0)\n",
    "    hue = 0\n",
    "\n",
    "    def patch(x0, y0):\n",
    "        for i in range(30):\n",
    "            x = x0 + randint(0, 30)\n",
    "            y = y0 + randint(0, 90)\n",
    "            goto(x, y)\n",
    "            setheading(randint(-5, 5))\n",
    "\n",
    "            color = hls_to_rgb(hue, uniform(0.4, 0.9), 1)\n",
    "            pencolor(color)\n",
    "            pensize(randint(10, 15))\n",
    "\n",
    "            down()\n",
    "            forward(randint(80, 90))\n",
    "            up()\n",
    "\n",
    "    def star():\n",
    "        setheading(0)\n",
    "        pensize(7)\n",
    "        pencolor('black')\n",
    "        for i in range(5):\n",
    "            forward(80)\n",
    "            right(2*360/5)\n",
    "        pensize(5)\n",
    "        color = hls_to_rgb(hue, 0.5, 1)\n",
    "        pencolor(color)\n",
    "        for i in range(5):\n",
    "            forward(80)\n",
    "            right(2*360/5)\n",
    "        up()\n",
    "\n",
    "    for x in range(-320, 250, 130):\n",
    "        for y in range(-270, 200, 110):\n",
    "            patch(x, y)\n",
    "            up()\n",
    "            goto(x+20, y+60)\n",
    "            down()\n",
    "            hue = hue + 0.2\n",
    "            star()\n",
    "            hue = hue + 0.1"
   ]
  },
  {
   "cell_type": "code",
   "execution_count": null,
   "metadata": {},
   "outputs": [],
   "source": []
  },
  {
   "cell_type": "code",
   "execution_count": null,
   "metadata": {},
   "outputs": [],
   "source": []
  }
 ],
 "metadata": {
  "kernelspec": {
   "display_name": "Python 3",
   "language": "python",
   "name": "python3"
  },
  "language_info": {
   "codemirror_mode": {
    "name": "ipython",
    "version": 3
   },
   "file_extension": ".py",
   "mimetype": "text/x-python",
   "name": "python",
   "nbconvert_exporter": "python",
   "pygments_lexer": "ipython3",
   "version": "3.7.4"
  }
 },
 "nbformat": 4,
 "nbformat_minor": 4
}
