{
 "cells": [
  {
   "cell_type": "markdown",
   "source": [
    "# 7. Modules\n",
    "<span commented>Les modules sont des fichiers</span><!-- REVIEW/JPP: On pourrait commencer par une petite motivation sur pourquoi les modules -->, aussi appelés scripts, contenant un ensemble de <span commented>déclarations de fonctions</span><!-- REVIEW/JPP: plus généralement, de définitions — typiquement des fonctions, mais aussi des variables/constantes comme pi de math -->. Lorsqu'on crée un programme, les modules ne sont pas importés d'office, ils sont stockés sur l'ordinateur lors de l'installation de Python et il faut les importer lorsqu'ils sont nécessaires."
   ],
   "metadata": {}
  },
  {
   "cell_type": "markdown",
   "source": [
    "## Importer un module\n",
    "Selon l'utilité qu'on en fait, y a plusieurs façons d'importer un module:\n",
    "\n",
    "    from module import *\n",
    "    from module import fonction\n",
    "    import module\n",
    "    import module as autre_nom\n",
    "\n",
    "Selon la façon dont on a importé le module, la forme que l'on va donner aux fonctions est différente.\n",
    "- Avec la première forme, il suffira d'appeler la fonction par son nom.\n",
    "- Avec les autres formes, il sera nécessaire de précéder le nom de la fonction par <span commented>celui du module</span><!-- REVIEW/JPP: ce n'est pas vrai pour la 2e ligne -->\n",
    "\n",
    "**Bonne pratique : Pourquoi ne pas simplement importer tout le module sans sélectionner de fonctions ?**\n",
    "\n",
    "De manière générale, il ne faut pas faire `from module import *`. Ceci encombre l'espace de nommage de l'importateur et rend la détection de noms non définis beaucoup plus ardue pour les analyseurs de code.\n",
    "\n",
    "Il est préférable d'importer les module au début d'un programme. Ceci permet d'afficher clairement de quels modules le code a besoin et évite de se demander <span commented>si le module est dans le contexte</span><!-- REVIEW/JPP: je ne comprends pas cette fin de phrase -->."
   ],
   "metadata": {}
  },
  {
   "cell_type": "markdown",
   "source": [
    "## Module `math`\n",
    "On retrouve dans le module `math` des <span commented>fonctions</span><!-- REVIEW/JPP: ainsi que des constantes --> \n",
    "- arithmétiques\n",
    "- logarithmiques et exponentielles\n",
    "- trigonométriques\n",
    "\n",
    "Voici quelques utilisations du module `math`."
   ],
   "metadata": {}
  },
  {
   "cell_type": "code",
   "execution_count": 4,
   "source": [
    "from math import pi\n",
    "\n",
    "print(pi)"
   ],
   "outputs": [
    {
     "output_type": "stream",
     "name": "stdout",
     "text": [
      "3.141592653589793\n"
     ]
    }
   ],
   "metadata": {}
  },
  {
   "cell_type": "code",
   "execution_count": 11,
   "source": [
    "from math import asin, acos, atan, degrees\n",
    "\n",
    "opp = 4\n",
    "hyp = 5\n",
    "adj = 3\n",
    "\n",
    "a = asin(opp/hyp)\n",
    "b = acos(adj/hyp)\n",
    "c = atan(opp/adj)\n",
    "\n",
    "print(degrees(a),degrees(b),degrees(c), sep='\\n')"
   ],
   "outputs": [
    {
     "output_type": "stream",
     "name": "stdout",
     "text": [
      "53.13010235415599\n",
      "53.13010235415599\n",
      "53.13010235415598\n"
     ]
    }
   ],
   "metadata": {}
  },
  {
   "cell_type": "markdown",
   "source": [
    "<span commented>Dans cet exemple</span><!-- REVIEW/JPP: ce serait bien d'éviter les arguments nommés et de simplement avoir 3 print ici pour éviter les complications non nécessaires --> on importe les fonction `asin`, `acos`, `atan` et `degrees` du module `math`. Les 3 premières renvoient un angle en radiant et la dernière permet de convertir les radiant en degrés. <span commented>Pour consulter toutes les fonction diponibles dans un module</span><!-- REVIEW/JPP: Ceci m'a l'air mieux en haut de page ou en bas de page, mais pas ici au milieu -->, la documentation de référence se trouve ici : https://docs.python.org/fr et **l'index des modules de Python** ici : https://docs.python.org/fr/3/py-modindex.html"
   ],
   "metadata": {}
  },
  {
   "cell_type": "markdown",
   "source": [
    "## Le module `random` \n",
    "Le module `random` permet d'utiliser des fonctions basées sur la génération de nombres aléatoire dans un programme. \n",
    "\n",
    "Exercice jeu de casino: la roulette "
   ],
   "metadata": {}
  },
  {
   "cell_type": "code",
   "execution_count": 18,
   "source": [
    "from random import random, randrange, choice\n",
    "\n",
    "a = random()\n",
    "\n",
    "b = choice(['gagné', 'perdu', 'match nul'])\n",
    "\n",
    "c = randrange(9)\n",
    "\n",
    "d = randrange(20, 101, 5)\n",
    "\n",
    "print(a,b,c,d,sep='\\n')"
   ],
   "outputs": [
    {
     "output_type": "stream",
     "name": "stdout",
     "text": [
      "0.980236474447044\n",
      "perdu\n",
      "2\n",
      "35\n"
     ]
    }
   ],
   "metadata": {}
  },
  {
   "cell_type": "markdown",
   "source": [
    "Dans l'exemple ci-dessus, trois fonction sont importées du module `random`. La fonction `random` permet de générer un nombre aléatoire entre 0.0 et 1.0. La fonction `choice` permet de choisir aléatoirement un élément d'une liste. La fonction `randrange` peut être utilisée avec un ou trois arguments: Dans le premier cas, un nombre entier est généré aléatoirement entre 0 et l'argument et dans le deuxième cas, un nombre entier est généré aléatoirement entre le premier et le deuxième argument en respectant des pas définis par le troisième argument."
   ],
   "metadata": {}
  },
  {
   "cell_type": "markdown",
   "source": [
    "## Turtle – dessin avec la tortue Python "
   ],
   "metadata": {}
  },
  {
   "cell_type": "markdown",
   "source": [
    "Python peut être utilisé pour donner des ordres à un robot afin qu'il execute des tâches. Ceci demande une perception particulière de l'espace pour se mettre à la place du robot et ainsi détérminer où est la droite et la gauche en fonction des actions déjà executées. Le module `turtle` permet de reproduire cette logique en animant une tortue virtuelle."
   ],
   "metadata": {}
  },
  {
   "cell_type": "code",
   "execution_count": 3,
   "source": [
    "from turtle import *"
   ],
   "outputs": [],
   "metadata": {}
  },
  {
   "cell_type": "markdown",
   "source": [
    "La tortue peut faire différents déplacements: avancer, reculer, tourner à droite et tourner à gauche. \n",
    "\n",
    "Pour avancer, l'instruction s'appelle `forward`, elle est suivie du nombre de pixels entre parenthèses.\n",
    "\n",
    "Pour reculer, l'instruction s'appelle `backward`, elle est suivie du nombre de pixels entre parenthèses.\n",
    "\n",
    "Pour tourner à gauche, l'instruction s'appelle `left`, elle est suivie du nombre de degrés entre parenthèses.\n",
    "\n",
    "Pour tourner à droite, l'instruction s'appelle `right`, elle est suivie du nombre de degrés entre parenthèses "
   ],
   "metadata": {}
  },
  {
   "cell_type": "code",
   "execution_count": 2,
   "source": [
    "from turtle import *\n",
    "forward(100)"
   ],
   "outputs": [],
   "metadata": {}
  },
  {
   "cell_type": "markdown",
   "source": [
    "Mettre un GIF"
   ],
   "metadata": {}
  },
  {
   "cell_type": "code",
   "execution_count": 2,
   "source": [
    "from turtle import *\n",
    "backward(100)"
   ],
   "outputs": [],
   "metadata": {}
  },
  {
   "cell_type": "markdown",
   "source": [
    "Mettre un GIF"
   ],
   "metadata": {}
  },
  {
   "cell_type": "code",
   "execution_count": 2,
   "source": [
    "from turtle import *\n",
    "left(90)"
   ],
   "outputs": [],
   "metadata": {}
  },
  {
   "cell_type": "markdown",
   "source": [
    "Mettre un GIF"
   ],
   "metadata": {}
  },
  {
   "cell_type": "code",
   "execution_count": 2,
   "source": [
    "from turtle import *\n",
    "right(90)"
   ],
   "outputs": [],
   "metadata": {}
  },
  {
   "cell_type": "markdown",
   "source": [
    "Mettre un GIF"
   ],
   "metadata": {}
  },
  {
   "cell_type": "markdown",
   "source": [
    "Il est possible de personnaliser le pinceau et l'apparence du curseur ou de choisir si le pinceau est en train d'écrire ou s'il est relevé avec d'autres instructions que l'on peut retrouver via l'index des modules python cité au début de ce chapitre. "
   ],
   "metadata": {}
  },
  {
   "cell_type": "markdown",
   "source": [
    "## Exercices"
   ],
   "metadata": {}
  },
  {
   "cell_type": "markdown",
   "source": [
    "### Ex1\n",
    "Faites un programme permettant de retourner la taille de l'angle en degrés d'un triangle rectangle.\n",
    "\n",
    "Le programme doit demander à l'utilisateur les longueurs des côtés opposé et adjacent par rapport à l'angle à calculer ainsi que de l'hypoténuse. Si l'utilisateur ne connait pas la longueur d'un côté, il doit inscrire un **x** comme longueur du côté manquant. Avec ces informations, le programme doit retourner la taille de l'angle en degrés."
   ],
   "metadata": {}
  },
  {
   "cell_type": "markdown",
   "source": [
    "### Ex2\n",
    "Faites un programme contre lequel on peut jouer à feuille-cailloux-ciseaux.\n",
    "\n",
    "Le programme doit demander à l'utilisateur de faire son choix parmi les 3 possibiliés. Si l'utilisateur fait un choix qui n'existe pas, retourner une information et reposer la question. L'ordinateur doit faire un choix aléatoire. Le programme doit confronter le choix de l'utilisateur et celui de l'ordinateur puis retourner une information sur le gagnant du jeu.\n",
    "\n",
    "Ce programme peut être amélioré en mettant en œuvre un système de score, de manches ou multijoueurs."
   ],
   "metadata": {}
  },
  {
   "cell_type": "markdown",
   "source": [
    "### Ex3\n",
    "Dessinez une étoile avec la tortue."
   ],
   "metadata": {}
  },
  {
   "cell_type": "markdown",
   "source": [
    "### Ex4\n",
    "Dessinez une maison avec une porte et une fenêtre avec la tortue"
   ],
   "metadata": {}
  },
  {
   "cell_type": "code",
   "execution_count": null,
   "source": [],
   "outputs": [],
   "metadata": {}
  }
 ],
 "metadata": {
  "kernelspec": {
   "display_name": "Python 3",
   "language": "python",
   "name": "python3"
  },
  "language_info": {
   "codemirror_mode": {
    "name": "ipython",
    "version": 3
   },
   "file_extension": ".py",
   "mimetype": "text/x-python",
   "name": "python",
   "nbconvert_exporter": "python",
   "pygments_lexer": "ipython3",
   "version": "3.8.5"
  }
 },
 "nbformat": 4,
 "nbformat_minor": 4
}