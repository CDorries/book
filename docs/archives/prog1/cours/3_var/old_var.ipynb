{
 "cells": [
  {
   "cell_type": "markdown",
   "metadata": {},
   "source": [
    "# Variables et expressions \n",
    "\n",
    "Un ordinateur a de la mémoire, dans laquelle on peut lire et écrire des valeurs via les programmes que l'on écrit. Pour cela, on utilise des _variables_, qui sont des noms que l'on donne à des emplacements mémoire de l'ordinateur. \n",
    "\n",
    "On peut notamment stocker dans des variables:\n",
    "\n",
    "- des nombres\n",
    "- des chaînes de caractères\n",
    "- des valeurs booléennes («vrai» ou «faux»; en Python: `True` ou `False`)"
   ]
  },
  {
   "cell_type": "markdown",
   "metadata": {},
   "source": [
    "## Affectation \n",
    "\n",
    "Une variable est caractérisée par \n",
    "\n",
    "- un nom de variable\n",
    "- une valeur qui est stockée dans la mémoire de l'ordinateur et qui a un type donné — par exemple, un nombre ou une chaîne de caractères.\n",
    "\n",
    "On appelle **affectation** l'action d'associer une valeur à un nom de variable. \n",
    "Par exemple, l'expression suivante associe la valeur `123` à la variable `x`."
   ]
  },
  {
   "cell_type": "code",
   "execution_count": 1,
   "metadata": {},
   "outputs": [],
   "source": [
    "x = 123"
   ]
  },
  {
   "cell_type": "markdown",
   "metadata": {},
   "source": [
    "Par la suite, nous pouvons utiliser la variable `x` dans une expression arithmétique, <span commented>telle que</span><!-- REVIEW/JPP: je ne suis pas fan de l'exemple avec des tuples parce qu'ils ne savent pas ce que c'est et se posent la question de pourquoi tout à coup ces parenthèses font surface ici, ou de pourquoi on peut tout à coup évaluer 3 trucs sur la même ligne -->:"
   ]
  },
  {
   "cell_type": "code",
   "execution_count": 2,
   "metadata": {},
   "outputs": [
    {
     "output_type": "execute_result",
     "data": {
      "text/plain": [
       "125"
      ]
     },
     "metadata": {},
     "execution_count": 2
    }
   ],
   "source": [
    "x + 2"
   ]
  },
  {
   "cell_type": "markdown",
   "metadata": {},
   "source": [
    "À n'importe quel moment, la variable peut être réaffectée, et donc changer de valeur."
   ]
  },
  {
   "cell_type": "code",
   "execution_count": 3,
   "metadata": {},
   "outputs": [],
   "source": [
    "x = 100"
   ]
  },
  {
   "cell_type": "markdown",
   "metadata": {},
   "source": [
    "Dorénavant une expression impliquant `x` sera évaluée avec cette nouvelle valeur. Par exemple:"
   ]
  },
  {
   "cell_type": "code",
   "execution_count": 4,
   "metadata": {},
   "outputs": [
    {
     "output_type": "execute_result",
     "data": {
      "text/plain": [
       "(102, 200, 10000)"
      ]
     },
     "metadata": {},
     "execution_count": 4
    }
   ],
   "source": [
    "x + 2, x * 2, x ** 2"
   ]
  },
  {
   "cell_type": "markdown",
   "metadata": {},
   "source": [
    "### Affectation multiple\n",
    "\n",
    "Python permet d'affecter plusieurs variables sur une même ligne."
   ]
  },
  {
   "cell_type": "code",
   "execution_count": 5,
   "metadata": {},
   "outputs": [
    {
     "output_type": "stream",
     "name": "stdout",
     "text": [
      "10 20 30\n"
     ]
    }
   ],
   "source": [
    "a, b, c = 10, 20, 30\n",
    "print(a, b, c)"
   ]
  },
  {
   "cell_type": "markdown",
   "metadata": {},
   "source": [
    "L'affectation multiple est une manière élégante d'échanger les valeurs de deux variables:"
   ]
  },
  {
   "cell_type": "code",
   "execution_count": 6,
   "metadata": {},
   "outputs": [
    {
     "output_type": "stream",
     "name": "stdout",
     "text": [
      "20 10\n"
     ]
    }
   ],
   "source": [
    "a, b = 10, 20\n",
    "a, b = b, a\n",
    "print(a, b)"
   ]
  },
  {
   "cell_type": "markdown",
   "metadata": {},
   "source": [
    "## Fonction input() \n",
    "\n",
    "La fonction `input()` permet de demander une valeur d'entrée à l'utilisateur lorsque le programme est en cours d'exécution. Cela permet d'écrire des programmes qui utiliseront des valeurs qui sont encore potentiellement inconnues lors de l'écriture du programme. Il est d'usage de stocker la valeur inscrite par l'<span commented>utilisateur</span><!-- REVIEW/JPP: à vérifier avec le groupe de rédaction si on rend ceci générique plutôt que masculin dans un but inclusif --> dans une variable. Voici un exemple qui a pour but de récupérer un \n",
    "\n",
    "    saison = input(\"Ta saison préférée: \")\n",
    "    print(\"Vive \", saison)\n",
    "    \n",
    "Le résultat affiché <span commented>dans la console</span><!-- REVIEW/JPP: moi je vois '66' et pas 12 dans la console, pas vous? Par ailleurs, je pense qu'il faut se fendre d'une explication sur ce qui est affiché en output et tapé en input, ça me semble être une misconception fréquente. Peut-être avec un style différent… -->\n",
    "\n",
    "    Ta saison préférée: \n",
    "\n",
    "A cet instant, le programme est en cours d'exécution et attend sur l'insertion d'une chaine de caractère par l'utilisateur. En inscrivant la chaine \"l'hiver\" puis en appuyant sur la touche entrée, le programme va suivre son cours avec cette valeur ici stockée dans la variable saison.\n",
    "\n",
    "    Ta saison préférée: l'hiver\n",
    "    Vive l'hiver\n",
    "\n"
   ]
  },
  {
   "cell_type": "markdown",
   "metadata": {},
   "source": [
    "## Valeur, expression et instruction\n",
    "\n",
    "Une **valeur** est une quantité élémentaire. <span commented>Comme exemples, nous pouvons donner</span><!-- REVIEW/JPP: En fait, il y a plusieurs endroit où on donne des exemples de ces types de données, chaque fois de manière partielle (des fois sans les float, des fois avec les bool). Ce serait bien de les centraliser quelque part afin de pouvoir y faire référence. Je le verrais bien en tête de ce chapitre, en à la fin du chapitre précédent sur l'introduction. Jusqu'à présent, on a une compréhension assez relative et plutôt intuitive de ces types -->:\n",
    "\n",
    "- `1` - un nombre entier\n",
    "- `1.2` - un nombre à <span commented>virgule flottante</span><!-- REVIEW/JPP: à expliquer -->\n",
    "- `'abc'` - une chaîne de caractères\n",
    "\n",
    "<span commented>Des valeurs, des opérateurs mathématiques et des parenthèses peuvent former une **expression**. Une expression est évaluée et le résultat de cette évaluation donne une valeur. L'évaluation de l'expression ci-dessous retourne 21</span><!-- REVIEW/JPP: Cette explication est bien, mais nous en avons aussi besoin en amont, je trouve. -->."
   ]
  },
  {
   "cell_type": "code",
   "execution_count": 7,
   "metadata": {},
   "outputs": [
    {
     "output_type": "execute_result",
     "data": {
      "text/plain": [
       "21"
      ]
     },
     "metadata": {},
     "execution_count": 7
    }
   ],
   "source": [
    "(1 + 2) * (3 + 4)"
   ]
  },
  {
   "cell_type": "markdown",
   "metadata": {},
   "source": [
    "En Python, il y <span commented>deux types d'instruction</span><!-- REVIEW/JPP: Ça me semble être une grosse simplification, qui donne aussi un fuax sentiment d'exhaustivité alors que ce n'est pas le cas (cf. https://docs.python.org/3/reference/simple_stmts.html) -->: \n",
    "- affectation\n",
    "- fonction\n",
    "\n",
    "<span commented>Voici</span><!-- REVIEW/JPP: il manque un bout de texte, ici -->"
   ]
  },
  {
   "cell_type": "code",
   "execution_count": 8,
   "metadata": {},
   "outputs": [
    {
     "output_type": "stream",
     "name": "stdout",
     "text": [
      "3\n"
     ]
    }
   ],
   "source": [
    "x = 1 + 2\n",
    "print(x)"
   ]
  },
  {
   "cell_type": "markdown",
   "metadata": {},
   "source": [
    "## Types\n",
    "\n",
    "Python traite chaque catégorie <span commented>d'objet</span><!-- REVIEW/JPP: proposition: de valeurs --> de façon différente. Un nombre et une chaine de texte ne seront pas traités de la même façon.\n",
    "\n",
    "Chaque <span commented>objet</span><!-- REVIEW/JPP: valeur --> a donc un _type_ spécifique. La fonction `type()` nous retourne le type de la valeur indiquée entre parenthèses.\n",
    "\n",
    "Par exemple, `123` est un nombre entier. Pour Python, cette valeur a le type `int`, qui vient de l'anglais _integer_, «nombre entier»:"
   ]
  },
  {
   "cell_type": "code",
   "execution_count": 9,
   "metadata": {},
   "outputs": [
    {
     "output_type": "execute_result",
     "data": {
      "text/plain": [
       "int"
      ]
     },
     "metadata": {},
     "execution_count": 9
    }
   ],
   "source": [
    "type(123)"
   ]
  },
  {
   "cell_type": "markdown",
   "metadata": {},
   "source": [
    "L'expression `'123'`, par contre, est une chaîne de caractères. Son type est `str`, qui vient de l'anglais _string_, «chaîne»."
   ]
  },
  {
   "cell_type": "code",
   "execution_count": 10,
   "metadata": {},
   "outputs": [
    {
     "output_type": "execute_result",
     "data": {
      "text/plain": [
       "str"
      ]
     },
     "metadata": {},
     "execution_count": 10
    }
   ],
   "source": [
    "type('123')"
   ]
  },
  {
   "cell_type": "markdown",
   "metadata": {},
   "source": [
    "Les objets `123` et `'123'` sont traités de façon différente dans une expression:"
   ]
  },
  {
   "cell_type": "code",
   "execution_count": 11,
   "metadata": {},
   "outputs": [
    {
     "output_type": "execute_result",
     "data": {
      "text/plain": [
       "(246, '123123')"
      ]
     },
     "metadata": {},
     "execution_count": 11
    }
   ],
   "source": [
    "123 * 2, '123' * 2"
   ]
  },
  {
   "cell_type": "markdown",
   "metadata": {},
   "source": [
    "Les autres types que nous avons vus sont:\n",
    "- nombre à virgule flottante (`float`)\n",
    "- <span commented>valeurs booléennes (`bool`)</span><!-- REVIEW/JPP: je pense que ça vaut la peine de dire qu'une expression est évaluée avant d'être passée à `type` pour mieux expliquer ce qui se passe pour la deuxième partie de cet exemple -->"
   ]
  },
  {
   "cell_type": "code",
   "execution_count": 12,
   "metadata": {},
   "outputs": [
    {
     "output_type": "execute_result",
     "data": {
      "text/plain": [
       "float"
      ]
     },
     "metadata": {},
     "execution_count": 12
    }
   ],
   "source": [
    "type(1.23)"
   ]
  },
  {
   "cell_type": "code",
   "execution_count": 13,
   "metadata": {},
   "outputs": [
    {
     "output_type": "execute_result",
     "data": {
      "text/plain": [
       "(bool, bool)"
      ]
     },
     "metadata": {},
     "execution_count": 13
    }
   ],
   "source": [
    "type(True), type(3 > 2)"
   ]
  },
  {
   "cell_type": "markdown",
   "metadata": {},
   "source": [
    "## Nom d'une variable\n",
    "\n",
    "Le nom d'une variable est sensible à la casse (la différence entre minuscules et majuscules). Ainsi, `a` et `A` sont deux <span commented>variables différentes</span><!-- REVIEW/JPP: ajouté première ligne pour idempotence de la cellule -->. "
   ]
  },
  {
   "cell_type": "code",
   "execution_count": 14,
   "metadata": {},
   "outputs": [],
   "source": [
    "a = 20\n",
    "A = 33"
   ]
  },
  {
   "cell_type": "markdown",
   "metadata": {},
   "source": [
    "Les deux variables ont des valeurs différentes."
   ]
  },
  {
   "cell_type": "code",
   "execution_count": 15,
   "metadata": {},
   "outputs": [
    {
     "output_type": "execute_result",
     "data": {
      "text/plain": [
       "(20, 33)"
      ]
     },
     "metadata": {},
     "execution_count": 15
    }
   ],
   "source": [
    "a, A"
   ]
  },
  {
   "cell_type": "markdown",
   "metadata": {},
   "source": [
    "Le nom d'une variable <span commented>(ou d'une fonction)</span><!-- REVIEW/JPP: je suis d'avis de ne pas parler de fonction maintenant pour ne pas tout faire à la fois --> peut être composé\n",
    "\n",
    "- de lettres (majuscule ou minuscule)\n",
    "- du tiret bas `_`\n",
    "- de chiffres (sauf pour le premier caractère)\n",
    "\n",
    "Sont interdits:\n",
    "- les espaces\n",
    "- les mots-clés (`if`, `else`, ...)\n",
    "- tout autre caractère spécial (`* + % & $ - / ?`)\n",
    "\n",
    "Ces noms de variables sont donc possibles: `a2`, `_a`, `speed`, `pos_x`, `POS_X`\n",
    "\n",
    "Ceux-ci ne sont pas utilisables:\n",
    "- `2var` (commence avec un chiffre)\n",
    "- `if` (correspond à un mot-clé du langage)\n",
    "- `var$2` (contient un caractère spécial)\n",
    "- `mon nom` (contient une espace et est interprété comme deux noms de variables)"
   ]
  },
  {
   "cell_type": "markdown",
   "metadata": {},
   "source": [
    "## Exercices\n",
    "Faites ces exercices dans l'éditeur de script, et non plus dans la console."
   ]
  },
  {
   "cell_type": "markdown",
   "metadata": {},
   "source": [
    "### Ex\n",
    "Sans utiliser l'ordinateur, déterminez ce qui va être affiché par les 5 instructions `print` dans ce programme.\n",
    "\n",
    "    a = 23\n",
    "    b = \"hello\"\n",
    "    c = 2\n",
    "    print(a + 5)\n",
    "    print(a - 1)\n",
    "    a = a + c\n",
    "    print(a)\n",
    "    c = c + a\n",
    "    print(c)\n",
    "    print(b + a)"
   ]
  },
  {
   "cell_type": "markdown",
   "metadata": {},
   "source": [
    "### Ex\n",
    "Faites un programme qui demande le **prénom** de l'utilisateur et qui <span commented>retourne</span><!-- REVIEW/JPP: proposition: affiche (la confusion affiche/retourne est très fréquente chez les élèves et on n'a pas appris à retourner quoi ce que soit encore à ce stade) --> la phrase suivante:\n",
    "    \n",
    "Bonjour, **prénom**, avez-vous passé une bonne journée ?"
   ]
  },
  {
   "cell_type": "markdown",
   "metadata": {},
   "source": [
    "### Ex\n",
    "Faites un programme qui demande à l'utilisateur la hauteur et le diamètre d'un cylindre et retourne le volume du cylindre avec une phrase réponse."
   ]
  },
  {
   "cell_type": "markdown",
   "metadata": {},
   "source": [
    "### Ex\n",
    "Faites un programme qui permet de faire un jeu d'écriture collectif (<span commented>cadavre exquis</span><!-- REVIEW/JPP: une référence ou explication minimaliste serait bienvenue ici. Manque-t-il d'ailleurs une partie de la consigne pour dire d'afficher le résultat? -->). \n",
    "\n",
    "- Le premier utilisateur doit proposer un sujet;\n",
    "- le deuxième, un verbe;\n",
    "- le troisième, un complément d'objet direct (COD);\n",
    "- le quatrième, un complément d'objet indirect (COI);\n",
    "- le dernier, un groupe permutable."
   ]
  },
  {
   "cell_type": "code",
   "execution_count": null,
   "metadata": {},
   "outputs": [],
   "source": []
  }
 ],
 "metadata": {
  "kernelspec": {
   "name": "python3",
   "display_name": "Python 3.9.1 64-bit"
  },
  "language_info": {
   "codemirror_mode": {
    "name": "ipython",
    "version": 3
   },
   "file_extension": ".py",
   "mimetype": "text/x-python",
   "name": "python",
   "nbconvert_exporter": "python",
   "pygments_lexer": "ipython3",
   "version": "3.9.1"
  },
  "toc-autonumbering": false,
  "interpreter": {
   "hash": "aee8b7b246df8f9039afb4144a1f6fd8d2ca17a180786b69acc140d282b71a49"
  }
 },
 "nbformat": 4,
 "nbformat_minor": 4
}