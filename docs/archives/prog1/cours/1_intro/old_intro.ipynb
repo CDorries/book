{
 "cells": [
  {
   "cell_type": "markdown",
   "metadata": {},
   "source": [
    "# *Introduction* \n",
    "\n",
    "La {glo}`programmation|programmation` est le processus consistant à «dire» à un ordinateur ce qu'il doit faire. L'opérateur humain va communiquer avec la machine via un langage de programmation afin de lui faire exécuter un certain nombre de tâches.\n",
    "\n",
    "<!-- REVIEW/JPP: les goûts et les couleurs… j'avoue qu'un GIF animé, personnellement, dans un cas comme ça, m'empêche juste de me concentrer sur le texte. Il y a un truc qui bouge, qui est flashy, mais qui est largement inutile car il n'illustre aucun concept qu'on a envie d'expliquer. -->\n",
    "\n",
    "![](https://media.giphy.com/media/26tn33aiTi1jkl6H6/giphy.gif)"
   ]
  },
  {
   "cell_type": "markdown",
   "metadata": {},
   "source": [
    "## Historique\n",
    "\n",
    "En 1642, le scientifique et philosophe français Blaise Pascal inventa la première machine à calculer (mécanique), la *pascaline*, initialement dénommée *machine d’arithmétique* puis *roue pascaline* : elle permettait d’additionner et de soustraire deux nombres d'une façon directe et de faire des multiplications et des divisions par répétitions.\n",
    "\n",
    "Pascal construisit ensuite une vingtaine de pascalines dans la décennie suivante souvent en les perfectionnant, dont huit ont survécu jusqu’à aujourd'hui.\n",
    "\n",
    "Par sa construction et l'ingéniosité de son mécanisme, en particulier s'agissant du calcul des retenues, la pascaline, seule machine à calculer opérationnelle au XVIIe siècle, est sans aucun doute l'ancètre de nos ordinateurs modernes. \n",
    "\n",
    "Il faudra ensuite attendre 200 ans avant l'invention d'un langage de programmation qui permettra de **spécifier des opérations** et de les exécuter de façon automatique.\n",
    "\n",
    "```{image} Im55.jpeg\n",
    ":width: 600\n",
    ":height: 400\n",
    "```\n",
    "\n",
    "<!--\n",
    "![](Im55.jpeg)\n",
    "-->\n",
    "\n",
    "\n"
   ]
  },
  {
   "cell_type": "markdown",
   "metadata": {},
   "source": [
    "### Métier à tisser\n",
    "La première machine programmable est probablement le **métier à tisser de Jacquard**, réalisé en 1801 par le lyonnais Joseph Marie Jacquard. La machine utilisait des cartes perforées pour guider les crochets qui soulevaient les fils de chaînes, et tisser ainsi des motifs complexes.\n",
    "\n",
    "```{image} Im56.jpeg\n",
    ":width: 600\n",
    ":height: 400\n",
    "```\n",
    "\n",
    "<!---\n",
    "![](Im56.jpeg)\n",
    "-->\n",
    "\n",
    "<!---\n",
    "<iframe width=\"745\" height=\"545\" src=\"https://www.youtube.com/embed/eE5wxtaIcEY\" title=\"YouTube video player\" frameborder=\"0\" allow=\"accelerometer; autoplay; clipboard-write; encrypted-media; gyroscope; picture-in-picture\" allowfullscreen></iframe> -->"
   ]
  },
  {
   "cell_type": "markdown",
   "metadata": {},
   "source": [
    "### Ada Lovelace\n",
    "\n",
    "La britannique Ada Lovelace, fille du poète Lord Byron, est connue pour avoir réalisé en 1843 le premier programme informatique sur un ancêtre de l'ordinateur : la machine analytique de Charles Babbage.\n",
    "\n",
    "![](ada.jpeg)"
   ]
  },
  {
   "cell_type": "markdown",
   "metadata": {},
   "source": [
    "### La machine de Turing\n",
    "\n",
    "![](turing.jpeg) \n",
    "\n",
    "En informatique théorique, la **machine de Turing** est un modèle abstrait d'un appareil mécanique de calcul. Ce modèle a été imaginé par le britannique Alan Turing en 1936. Une machine de Turing comporte les éléments suivants :\n",
    "\n",
    "- un **ruban infini** divisé en cases. Chaque case contient un symbole (par exemple des 0 et des 1),\n",
    "- une **tête de lecture/écriture** qui permet de lire les symboles sur le ruban,\n",
    "- un **registre d'état** qui mémorise l'état actuel,\n",
    "- une **table d'actions** qui indique quel symbole écrire, basé sur l'état actuel et le symbole lu.\n",
    "\n",
    "L'application ci-dessous simule le fonctionnement d'une machine de Turing : on peut ainsi suivre les étapes «mécaniques» du fonctionnement de la machine de Turing, en ajoutant par exemple 1 au nombre binaire 10011010.\n",
    "\n",
    "<iframe width=\"745\" height=\"345\" src=\"https://animations.interstices.info/machine-turing/index.html\" title=\"Simu Turing\" frameborder=\"0\" allow=\"accelerometer; autoplay; clipboard-write; encrypted-media; gyroscope; picture-in-picture\" allowfullscreen></iframe>\n",
    "\n",
    "\n"
   ]
  },
  {
   "cell_type": "markdown",
   "metadata": {},
   "source": [
    "\n",
    "\n",
    "Les instructions d'un processeur sont représentées avec des séquences binaires (des 0 et des 1). Les ordinateurs, au niveau le plus bas, représentent toutes les données en binaire, avec des 0 et des 1. C'est aussi vrai pour un programme qu'un processeur pourra exécuter : chaque instruction élémentaire sera aussi représentée par une série de 1 et de 0. Il est difficile pour un humain de directement comprendre un tel langage. Donc, rapidement, des **assembleurs et compilateurs** ont été développés, qui permettaient d'écrire un programme avec des commandes exprimées en anglais et plus facilement compréhensibles pour un humain.\n",
    "\n"
   ]
  },
  {
   "cell_type": "markdown",
   "metadata": {},
   "source": [
    "### Langage machine\n",
    "Un processeur peut exécuter un certain nombre d'instructions mathématiques et logiques. Pour la machine, ces instructions sont représentées par un code binaire bien défini, le langage machine ; pour les humains, en général par un mot court qui idenfitie l'action à effectuer. Le langage assembleur est ainsi une première «étape» vers un formalisme humain.\n",
    "\n",
    "Un exemple typique est une instruction qui charge une valeur (par exemple 10) dans un registre (a).\n",
    "\n",
    "    load a, #10\n",
    "    \n",
    "Un autre exemple est une instruction qui additionne un nombre (par exemple 2) à un registre.\n",
    "\n",
    "    add a, #2\n",
    "    \n",
    "Une instruction problématique est le `goto` qui transfère le contrôle vers un autre endroit dans le code.\n",
    "\n",
    "    goto label\n",
    "    \n",
    "Son utilisation peut rendre un programme difficile à comprendre et conduit facilement à des erreurs."
   ]
  },
  {
   "cell_type": "markdown",
   "metadata": {},
   "source": [
    "### Langages haut niveau\n",
    "\n",
    "Un langage de programmation à haut niveau d'abstraction généralement appelé **langage de haut niveau** est un langage de programmation concentré sur le problème à résoudre, et permet d'écrire des programmes en utilisant une syntaxe usuelle de la langue naturelle, originellement l'anglais, ainsi que des symboles mathématiques familiers. Le niveau du langage est inversément proportionnel à sa proximité machine, à sa technicité propre. \n",
    "\n",
    "Les langages haut niveau ont pour prétention de simplifier l'écriture des programmes, indépendants de la machine (portabilité).\n",
    "\n",
    "Apparus dès les années 1950, ils n'ont cessé d'évoluer jusqu'à aujourd'hui, où il en existe plusieurs centaines.\n",
    "\n",
    "Les langages de haut niveau (C, Java, Python pour citer les plus courants) remplacent en particulier l'instruction `goto` par ce qu'on appelle des **structures de contrôle**, telles que :\n",
    "\n",
    "- des boucles (for, while),\n",
    "- des appels de fonctions,\n",
    "- des instructions conditionnelles (if ... then ... else).\n"
   ]
  },
  {
   "cell_type": "markdown",
   "metadata": {},
   "source": [
    "### Langages web\n",
    "Pour construire des sites web, trois langages sont indispensables :\n",
    "- **HTML** pour le contenu de la page,\n",
    "- **CSS** pour le style et le format de la page,\n",
    "- **JavaScript (JS)** pour programmer l'interactivité de la page.\n",
    "\n",
    "````{admonition} Remarque\n",
    "Il faut cependant distinguer les langages de programmation de ces langages, qui sont à ranger plutôt dans la case des langages dits «de balisage» qui ne transmettent en fait aucune instruction.\n",
    "````\n",
    "<br>\n",
    "\n",
    "<!--\n",
    "<img src=\"poster-des-langages-de-programmation.pdf\" alt=\"Langages de programmation\" width=\"820\" height=\"520\">\n",
    "-->\n",
    "\n",
    "<br>\n",
    "<br>"
   ]
  },
  {
   "cell_type": "markdown",
   "metadata": {},
   "source": [
    "<!-- ## Tendances actuelles\n",
    "Le domaine de l'informatique connait plusieurs tendances qui sont à la mode en ce moment. Ces sujets apparaissent régulièrement dans la presse et dans les médias. -->"
   ]
  },
  {
   "cell_type": "markdown",
   "metadata": {},
   "source": [
    "<!-- ### Machine learning\n",
    "L'apprentissage automatique, où machine learning (ML) en anglais, est un champ d'intelligence artificielle qui donne à l'ordinateur la capacité d'apprendre à partir de données massives."
   ]
  },
  {
   "cell_type": "markdown",
   "metadata": {},
   "source": [
    "<!-- ### Big data\n",
    "Les données massives, **big data** en anglais, désignent les informations qui résultent d'une explosion quantitative des données durant ces dernières années. Elles nécessitent souvent de multiples machines et des traitements parallélisés.\n",
    "\n",
    "![](big_data.png)"
   ]
  },
  {
   "cell_type": "markdown",
   "metadata": {},
   "source": [
    "<!-- ### Intelligence artificielle\n",
    "L'intelligence artificielle (IA) désigne un ensemble de théories et techniques permettant la résolution de problèmes complexes : c'est cette puissance de calcul qui autorise le terme d'\"intelligence\" en rapprochement avec l'intelligence humaine.\n",
    "\n",
    "Une avancée majeure fut l'ordinateur **Deep Blue** développé par IBM, premier ordinateur à battre un champion mondial d'échecs, Garry Kasparov, en 1997.\n",
    "\n",
    "En 2011 l'ordinateur **IBM Watson** a gagné au jeu télévisé **Jeopardy !** en répondant à des questions et en utilisant un traitement de langage naturel."
   ]
  },
  {
   "cell_type": "markdown",
   "metadata": {},
   "source": [
    "<!-- ### Internet des objets\n",
    "L'**internet des objets**, ou Internet of Things (IoT) en anglais, désigne un nombre croissant d'objets connectés à l'internet, dans le domaine de la santé, de la domotique et de la logistique.\n",
    "\n",
    "![](iot.jpeg)"
   ]
  },
  {
   "cell_type": "markdown",
   "metadata": {},
   "source": [
    "<!-- ### Cybersécurité (blockchain) \n",
    "Le **blockchain** est une technologie de stockage et de transmission d'informations sans organe de contrôle. \n",
    "C'est une base de données distribuée, et protégée contre la falsification.\n",
    "\n",
    "La monnaie virtuelle **bitcoin** utilise cette technologie."
   ]
  }
 ],
 "metadata": {
  "interpreter": {
   "hash": "c3b061f701dfbdbc8b45ba2c04fdb4125b726d28f4bdc060c70fed5e5e2f8049"
  },
  "kernelspec": {
   "display_name": "Python 3.8.3 64-bit ('base': conda)",
   "name": "python3"
  },
  "language_info": {
   "name": "python",
   "version": ""
  }
 },
 "nbformat": 4,
 "nbformat_minor": 4
}
