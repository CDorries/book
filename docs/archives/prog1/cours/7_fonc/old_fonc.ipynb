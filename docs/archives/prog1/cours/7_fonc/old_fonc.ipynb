{
 "cells": [
  {
   "cell_type": "markdown",
   "source": [
    "# 6. Fonctions </span><!-- REVIEW/JPP: les fonctions sont l'un des principaux outils que la programmation nous offre pour organiser le code, le modulariser, monter dans les niveaux d'abstractions, etc., le tout avec des principes et une syntaxe simple en Python. Je ssui d'avis de les traiter avant toutes les structures de données (ne serait-ce que parce que la manipulation des structures de données demande d'utiliser des fonctions et des méthodes). -->\n",
    "<span commented>En programmation, les fonctions sont des suites d'instructions nommées qui permettent d'éviter d'écrire plusieurs fois la même suite d'instructions. En effet, les fonctions peuvent être utilisées autant de fois que nécessaire dans un programme. Il est d'usage de dire que les fonctions prennent des arguments et renvoient une valeur de retour.</span><!-- REVIEW/JPP: Proposition de refomulation. Souvent, en programmation, on a besoin de faire la même chose plusieurs fois, ou de résoudre des problèmes semblables par une même suite d'instructions. La quasi-totalité des langages de programmation disposent d'un concept de «sous-programme», qui nous permet de prendre une suite d'instructions, de lui donner un nom, et d'ensuite les exécuter autant de fois de nécessaire simplement en utilisant le nom de ce sous-programme. En Python, un tel sous-programme s'appelle une **fonction**. Les fonctions sont flexibles et peuvent être _paramétrées_, c'est-à-dire qu'elle vont demander des valeurs supplémentaires lors de leur exécution, valeurs qu'on appelle _arguments_. Finalement, elle peuvent aussi calculer et _retourner une valeur_ qui sera utilisable depuis le code qui a appelé la fonction. <newline, newline> On peut considérer que les fonctions fournissent ainsi la possibilibité d'enrichir le «vocabulaire» avec lequel on donne des instructions à la machine. <newline, newline> Voici un exemple: -->"
   ],
   "metadata": {}
  },
  {
   "cell_type": "code",
   "execution_count": 9,
   "source": [
    "def saluer(prenom, nom):\n",
    "    print(\"Bonjour\",prenom,nom)\n",
    "    print(\"Vous êtes en train de programmer!\")\n",
    "\n",
    "a = \"Marc\"\n",
    "b = \"Zukerberg\"\n",
    "saluer(a,b)"
   ],
   "outputs": [
    {
     "output_type": "stream",
     "name": "stdout",
     "text": [
      "Bonjour Marc Zukerberg\n",
      "Vous êtes en train de programmer!\n"
     ]
    }
   ],
   "metadata": {}
  },
  {
   "cell_type": "markdown",
   "source": [
    "Cet exemple illustre à la fois la _définition_ d'une nouvelle fonction et son _appel_, son utilisation.\n",
    "\n",
    "La nouvelle fonction est déclarée au début de cet exemple. Elle s'appelle `saluer` et exécute deux instructions `print`. Elle nécessite deux arguments qui sont nommés **prenom** et **nom**. Le nom de ces arguments est utilisé uniquement au sein de la fonction, il sera impossible d'utiliser \"nom\" comme une variable hors de la fonction. À la dernière ligne, on appelle la fonction `saluer` en utilisant comme arguments les valeurs stockées dans les deux variables `a` et `b`, qui vont être assignées respectivement à `prenom` et `nom`."
   ],
   "metadata": {}
  },
  {
   "cell_type": "markdown",
   "source": [
    "## Appeler une fonction\n",
    "Une fois une fonction définie, il est possible de l'utiliser en l'appelant. Pour ce faire, il suffit d'écrire le nom de la fonction suivi des éventuels arguments de la fonction entre parenthèses.\n",
    "\n",
    "Voici quelques exemples d'utilisation de fonctions prédéfinies en Python.\n",
    "La fonction `type` retourne le type de son argument."
   ],
   "metadata": {}
  },
  {
   "cell_type": "code",
   "execution_count": 3,
   "source": [
    "type(\"Bonjour\")"
   ],
   "outputs": [
    {
     "output_type": "execute_result",
     "data": {
      "text/plain": [
       "str"
      ]
     },
     "metadata": {},
     "execution_count": 3
    }
   ],
   "metadata": {}
  },
  {
   "cell_type": "markdown",
   "source": [
    "La fonction `pow` retourne le résultat de son premier argument mis à la puissance du second (ici, par exemple, $3^5$)."
   ],
   "metadata": {}
  },
  {
   "cell_type": "code",
   "execution_count": 5,
   "source": [
    "pow(3, 5)"
   ],
   "outputs": [
    {
     "output_type": "execute_result",
     "data": {
      "text/plain": [
       "243"
      ]
     },
     "metadata": {},
     "execution_count": 5
    }
   ],
   "metadata": {}
  },
  {
   "cell_type": "markdown",
   "source": [
    "La fonction `len` retourne la longueur d'une chaine de caractères <!-- REVIEW/JPP: si on a déjà vu les listes ou d'autres structures: ajouter 'ou d'une liste', etc. -->."
   ],
   "metadata": {}
  },
  {
   "cell_type": "code",
   "execution_count": 6,
   "source": [
    "len(\"Bonjour\")"
   ],
   "outputs": [
    {
     "output_type": "execute_result",
     "data": {
      "text/plain": [
       "7"
      ]
     },
     "metadata": {},
     "execution_count": 6
    }
   ],
   "metadata": {}
  },
  {
   "cell_type": "markdown",
   "source": [
    "La fonction `round` retourne l'arrondi d'une valeur numérique."
   ],
   "metadata": {}
  },
  {
   "cell_type": "code",
   "execution_count": 8,
   "source": [
    "round(333.76)"
   ],
   "outputs": [
    {
     "output_type": "execute_result",
     "data": {
      "text/plain": [
       "334"
      ]
     },
     "metadata": {},
     "execution_count": 8
    }
   ],
   "metadata": {}
  },
  {
   "cell_type": "markdown",
   "source": [
    "La fonction `min` retourne la valeur minimale des arguments qu'on lui fournit."
   ],
   "metadata": {}
  },
  {
   "cell_type": "code",
   "execution_count": 9,
   "source": [
    "min(5,34,112)"
   ],
   "outputs": [
    {
     "output_type": "execute_result",
     "data": {
      "text/plain": [
       "5"
      ]
     },
     "metadata": {},
     "execution_count": 9
    }
   ],
   "metadata": {}
  },
  {
   "cell_type": "markdown",
   "source": [
    "## Définir une fonction\n",
    "Pour définir une fonction, il faut écrire le mot-clé `def` puis le nom de la fonction suivi par une paire de parenthèses et d'un deux-points. La nomenclature d'une fonction est régie par les mêmes règles que pour les noms de variables: des lettres, des chiffres et des <span commented>traits de soulignement</span><!-- REVIEW/JPP: auparavant, on a je crois dit 'tiret bas' --> sont autorisés, mais le premier caractère ne peut pas être un chiffre. Il n'est pas possible d'utiliser un mot-clé comme nom d'une fonction, et il faut éviter d'avoir une variable et une fonction du même nom.\n",
    "\n",
    "    def mafonction():"
   ],
   "metadata": {}
  },
  {
   "cell_type": "markdown",
   "source": [
    "Les instructions qui doivent être exécutées à l'appel de la fonction sont indentées."
   ],
   "metadata": {}
  },
  {
   "cell_type": "code",
   "execution_count": 10,
   "source": [
    "def mafonction():\n",
    "    a = 3 * 5\n",
    "    return a\n",
    "\n",
    "resultat = mafonction()\n",
    "print (resultat)"
   ],
   "outputs": [
    {
     "output_type": "stream",
     "name": "stdout",
     "text": [
      "15\n"
     ]
    }
   ],
   "metadata": {}
  },
  {
   "cell_type": "markdown",
   "source": [
    "L'instruction `return` permet de _retourner_ une valeur calculée par la fonction et d'ainsi déterminer quelle est son résultat — ce qu'on appelle sa _valeur de retour_. <span commented>Comme inscrit dans le premier exemple, cette instruction est facultative si le résultat de la fonction n'est pas un objet que l'on veut utiliser.</span><!-- REVIEW/JPP: confusing, parce que c'est le code appelant qui décide s'il veut utiliser la valeur de retour alors que c'est quand on écrit la fonction qu'on décide si oui ou non elle va retourner quelque chose. Proposition de reformulation: Toutes les fonctions ne doivent pas forcément retourner une valeur. Comme le premier exemple le montre, une fonction pourrait se contenter de faire quelques `print` sans calculer un résultat donné. Dans ce cas, lorsqu'il n'y a pas de valeur à retourner, on n'a pas besoin du mot clé `return`: (ensuite, même avec cette reformulation, je pense qu'il faudrait un exemple pour montrer que 'return' cause l'arrêt de l'exécution du reste du code de la fonction, qui est aussi un point sur lequel les élèves se plantent facilement) -->"
   ],
   "metadata": {}
  },
  {
   "cell_type": "code",
   "execution_count": 17,
   "source": [
    "def spammer(n):\n",
    "    for i in range(n):\n",
    "        print(\"Spam!\")\n",
    "        \n",
    "spammer(8)"
   ],
   "outputs": [
    {
     "output_type": "stream",
     "name": "stdout",
     "text": [
      "Spam!\n",
      "Spam!\n",
      "Spam!\n",
      "Spam!\n",
      "Spam!\n",
      "Spam!\n",
      "Spam!\n",
      "Spam!\n"
     ]
    }
   ],
   "metadata": {}
  },
  {
   "cell_type": "markdown",
   "source": [
    "Dans l'exemple ci-dessus, la fonction `spammer` a un argument `n` qui indique le nombre de répétitions de la boucle. Elle n'a aucune valeur de retour."
   ],
   "metadata": {}
  },
  {
   "cell_type": "code",
   "execution_count": 30,
   "source": [
    "#Distance en kilomètre et temps en heure\n",
    "\n",
    "def vitesse(distance, temps):\n",
    "    v = distance / temps\n",
    "    return v\n",
    "\n",
    "a = vitesse(12,3)\n",
    "print(a,\"km/h\")\n",
    "\n",
    "b = vitesse(3,12)\n",
    "print(b,\"km/h\")"
   ],
   "outputs": [
    {
     "output_type": "stream",
     "name": "stdout",
     "text": [
      "4.0 km/h\n",
      "0.25 km/h\n"
     ]
    }
   ],
   "metadata": {}
  },
  {
   "cell_type": "markdown",
   "source": [
    "Il est possible d'utiliser plusieurs arguments dans une fonction en les séparant par une virgule. L'ordre des arguments doit être respecté; ainsi, `vitesse(12, 3)` ne retournera pas la même valeur que `vitesse(3, 12)`: l'un calcule la vitesse nécessaire pour parcourir 12 kilomètres en 3 heures, alors que l'autre calcule la vitesse nécessaire pour parcourir 3 kilomètres en 12 heures."
   ],
   "metadata": {}
  },
  {
   "cell_type": "markdown",
   "source": [
    "Un élément à prendre en compte dans l'utilisation de fonction est la visibilité des variables. Lorsqu'une variable est utilisée dans une fonction, elle n'est «visible» (ou _définie_) qu'à l'intérieur de cette fonction. Dans l'exemple ci-dessus, la variable `v` n'est pas définie en dehors de la fonction `vitesse` et ne peut donc pas être utilisée en dehors. Par contre, si l'on souhaite <span commented>utiliser</span><!-- REVIEW/JPP: je ne sais pas si ça vaut la peine de parler de ceci, parce que c'est assez complexe: on n'a par exemple pas besoin de global pour lire une structure, mais seulement pour réaffecter une variable, mais avec les structures non immuable comme les listes, on peut quand même changer leur contenu sans global parce que ce n'est pas une réaffectation... est-ce donc nécessaire d'en parler? --> une variable globale (c'est-à-dire définie dans le script principal, en dehors d'une fonction), alors il faut l'indiquer avec le mot-clé `global`, comme dans l'exemple ci-dessous."
   ],
   "metadata": {}
  },
  {
   "cell_type": "code",
   "execution_count": 32,
   "source": [
    "def saluer(nom):\n",
    "    global nbpers\n",
    "    nbpers = nbpers + 1\n",
    "    print(\"Bonjour\", nom)\n",
    "    print(\"Bienvenue\")\n",
    "\n",
    "nbpers = 0\n",
    "saluer(\"Pierre\")\n",
    "saluer(\"Jeanne\")\n",
    "print(\"J'ai pu saluer\", nbpers, \"personnes\")"
   ],
   "outputs": [
    {
     "output_type": "stream",
     "name": "stdout",
     "text": [
      "Bonjour Pierre\n",
      "Bienvenue\n",
      "Bonjour Jeanne\n",
      "Bienvenue\n",
      "J'ai pu saluer 2 personnes\n"
     ]
    }
   ],
   "metadata": {}
  },
  {
   "cell_type": "markdown",
   "source": [
    "Dans l'exemple ci-dessus, le programme garde le compte du nombre de personnes saluées dans la variable globale `nbpers` qui est mise à jour à chaque appel de fonction. Grâce au mot-clé `global` de la ligne 2, Python va chercher la valeur de cette variable à l'extérieur de la fonction. Elle a été initialisée à la ligne 7, qui est la première ligne exécutée par le programme après la définition de la fonction `saluer`."
   ],
   "metadata": {}
  },
  {
   "cell_type": "code",
   "execution_count": 34,
   "source": [
    "def fonction(x): \n",
    "    a = 3\n",
    "    a = a+1\n",
    "    return a*x \n",
    "\n",
    "a = 5\n",
    "b = fonction(10)\n",
    "print(b)\n",
    "b = fonction(10)\n",
    "print(b)"
   ],
   "outputs": [
    {
     "output_type": "stream",
     "name": "stdout",
     "text": [
      "40\n",
      "40\n"
     ]
    }
   ],
   "metadata": {}
  },
  {
   "cell_type": "markdown",
   "source": [
    "Dans l'exemple ci-dessus, la variable `a` qui est utilisée dans la fonction n'est pas la même que la variable `a` définie à la ligne 6."
   ],
   "metadata": {}
  },
  {
   "cell_type": "code",
   "execution_count": 11,
   "source": [
    "def fonction(x):\n",
    "    global a\n",
    "    a = a+1\n",
    "    return a*x\n",
    "\n",
    "a = 5\n",
    "b = fonction(10) \n",
    "print(b)\n",
    "b = fonction(10) \n",
    "print(b)"
   ],
   "outputs": [
    {
     "output_type": "stream",
     "name": "stdout",
     "text": [
      "60\n",
      "70\n"
     ]
    }
   ],
   "metadata": {}
  },
  {
   "cell_type": "markdown",
   "source": [
    "Dans l'exemple ci-dessus, la valeur de la variable `a` utilisée dans la fonction est récupérée grâce au mot clé `global`. Ainsi, la variable `a` modifiée lors de l'exécution de la fonction peut être utilisée dans la suite du programme."
   ],
   "metadata": {}
  },
  {
   "cell_type": "markdown",
   "source": [
    "## Exercices"
   ],
   "metadata": {}
  },
  {
   "cell_type": "markdown",
   "source": [
    "### Ex\n",
    "Faites un programme qui demande à l'utilisateur les coefficients **a, b** et **c** d'une fonction du deuxième degré et qui retourne les solutions de l'équation $ax^2 + bx + d = 0$. Afin de pouvoir réutiliser ce calcul dans plusieurs programmes, nous allons créer une fonction `solution2degre acceptant 3 arguments (a, b et c).\n",
    "\n",
    "**Rappel:**.  \n",
    "Si le discriminant $\\Delta = b^2 - 4ac$ est\n",
    "- négatif: il n'y a pas de solution, \n",
    "- nul: il y a qu'une seule solution, \n",
    "- positif: il y a deux solutions.\n",
    "\n",
    "La racine carrée peut s'obtenir avec la puissance 0.5, <span commented>ou avec la fonction `sqrt` importée du module `math`</span><!-- REVIEW/JPP: mais on n'a pas encore parlé de modules, donc information à taire ici, à mon avis -->."
   ],
   "metadata": {}
  },
  {
   "cell_type": "code",
   "execution_count": null,
   "source": [],
   "outputs": [],
   "metadata": {}
  }
 ],
 "metadata": {
  "kernelspec": {
   "display_name": "Python 3",
   "language": "python",
   "name": "python3"
  },
  "language_info": {
   "codemirror_mode": {
    "name": "ipython",
    "version": 3
   },
   "file_extension": ".py",
   "mimetype": "text/x-python",
   "name": "python",
   "nbconvert_exporter": "python",
   "pygments_lexer": "ipython3",
   "version": "3.8.5"
  }
 },
 "nbformat": 4,
 "nbformat_minor": 4
}