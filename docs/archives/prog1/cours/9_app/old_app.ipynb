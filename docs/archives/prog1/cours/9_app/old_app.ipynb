{
 "cells": [
  {
   "cell_type": "markdown",
   "source": [
    "# 8. Programmation appliquée\n",
    "\n",
    "Dans cette section vous allez explorer des applications informatiques de la vie pratique."
   ],
   "metadata": {}
  },
  {
   "cell_type": "markdown",
   "source": [
    "## Système d'identification\n",
    "La plupart des services sur le web utilisent un système d'identification pour gèrer les accès aux différentes pages d'un site web. Ces systèmes comparent une chaine de caractères entrée par l'utilisateur à celles enregistrées dans une base de données. Si l'utilisateur entre une chaine de caractère qui est présente dans la base de donnée il accède à des informations. Dans l'optique de réaliser un système fonctionnel puis de l'améliorer plusieurs étapes sont à effectuer:"
   ],
   "metadata": {}
  },
  {
   "cell_type": "markdown",
   "source": [
    "1) Pour cette application, l'objectif est de créer un système demandant à l'utilisateur d'insérer sont nom d'utilisateur puis son mot de passe. Si ces derniers sont dans la base de donnée, l'utilisateur aura accès aux informations secrètes."
   ],
   "metadata": {}
  },
  {
   "cell_type": "markdown",
   "source": [
    "2) Pour améliorer l'expérience utilisateur, il faut intégrer des messages d'erreur à l'intention de l'utilisateur pour l'infomer si son nom d'utilisateur n'existe pas ou si son mot de passe est incorrect."
   ],
   "metadata": {}
  },
  {
   "cell_type": "markdown",
   "source": [
    "## Analyser un texte "
   ],
   "metadata": {}
  },
  {
   "cell_type": "markdown",
   "source": [],
   "metadata": {}
  },
  {
   "cell_type": "markdown",
   "source": [
    "## Mimer instagram "
   ],
   "metadata": {}
  },
  {
   "cell_type": "markdown",
   "source": [
    "## Programmer un jeu simple avec Pygame "
   ],
   "metadata": {}
  },
  {
   "cell_type": "code",
   "execution_count": null,
   "source": [],
   "outputs": [],
   "metadata": {}
  }
 ],
 "metadata": {
  "kernelspec": {
   "display_name": "Python 3",
   "language": "python",
   "name": "python3"
  },
  "language_info": {
   "codemirror_mode": {
    "name": "ipython",
    "version": 3
   },
   "file_extension": ".py",
   "mimetype": "text/x-python",
   "name": "python",
   "nbconvert_exporter": "python",
   "pygments_lexer": "ipython3",
   "version": "3.7.9"
  }
 },
 "nbformat": 4,
 "nbformat_minor": 4
}