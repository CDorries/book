{
 "cells": [
  {
   "cell_type": "markdown",
   "metadata": {},
   "source": [
    "# Conclusion\n",
    "\n",
    "\n",
    "Après la pascaline dont on a pu comprendre brièvement le fonctionnement en introduction de cette thématique, l'automatisation progressive des machines a posé le problème de l'interface de communication avec l'humain. \n",
    "On est alors passé d'un environnement plus ou moins figé constitué d'un ensemble d'instructions (signes) élémentaires, en quelque sorte les prémisses d'un dialecte homme-machine, à la conception d'outils de plus en plus élaborés, depuis la moitié du 20ème siècle, formant des ensembles linguistiques qui n'ont cessé de s'enrichir technologiquement (gestion de la mémoire, des tâches) et théoriquement (sémantique, modèles mathématiques).\n",
    "\n",
    "\n",
    "\n",
    "```{image} media/Fresque_langages.png\n",
    ":width: 800px\n",
    ":height: 500px\n",
    "```\n",
    "Fresque des langages informatiques sur 50 ans\n",
    "\n",
    "<br>\n",
    "\n",
    "\n",
    "La distance machine n'a cessé de croître par l'élaboration de langages de plus en plus «ergonomiques», de plus en plus proches de l'élaboration langagière humaine. On parle couramment de syntaxe, de sémantique, d'alphabet, de grammaire quand on étudie les langages informatiques aujourd'hui, et l'on cherche à s'appuyer sur des fondamentaux théoriques de plus en plus forts pour en élaborer de nouveaux. Ceux-ci intègrent des spécificités théoriques de haut niveau afin de traduire ces notions théoriques, en particulier mathématiques : langage impératif (Fortran), objet (Java, Swift), déclaratif - fonctionel (Haskell) ou logique (Prolog), concurrent (langage Go), visuel (Delphi), ...\n",
    "\n",
    "\n",
    "Python est devenu un langage pratiqué par de très nombreux développeurs, et suit une progression croissante depuis sa création récente en 1991. De nouvelles applications émergent en analyse de données et en intelligence artificielle.\n",
    "\n",
    "Il jouit d'une base considérable d’utilisateurs, issus originellement du milieu éducatif et de la recherche ; même si son implantation industrielle tarde face à l'antériorité de langages tels que Fortran, C++ ou Java, il est vraisemblable qu'il poursuivre sa pénétration au sein des entreprises. \n",
    "\n",
    "Il est également intéressant de suivre comment l'évolution des langages s'opère, comment certains intègrent des choix formels et durent, alors que d'autres périclitent, et de nouveaux apparaissent. Les langages tendent vraisemblablement vers plus de concision et d'ergonomie, c'est à dire plus d'efficacité d'utilisation.\n",
    "\n",
    "De nouveaux langages de programmation apparaissent régulièrement. La «sélection naturelle» en élimine une grande partie, mais l’arrivée de l’intelligence artificielle et des ordinateurs quantiques pourrait bien changer la donne.\n",
    "\n",
    "\n",
    "```{image} media/qbits.png\n",
    ":width: 800px\n",
    ":height: 350px\n",
    "```\n",
    "[Qbits et informatique quantique](https://1qbit.com/blog/quantum-computing/a-bit-or-two-about-qubits/)\n",
    "\n",
    "<br>\n",
    "\n",
    "La question se pose ainsi : d'ici 2050, est-ce-que tout le monde pourra développer ses propres applications sans maîtrise particulière d'un langage informatique ? C'est incontestablement une des ambitions de l'intelligence artificielle, et du développement de modèles capables de [générer du code automatiquement](https://www.ictjournal.ch/articles/2020-05-28/lia-de-microsoft-et-openai-est-capable-de-coder-en-python).\n",
    "\n",
    "\n",
    "```{image} media/IA.png\n",
    ":width: 800px\n",
    ":height: 350px\n",
    "```\n",
    "\n",
    "Il est par ailleurs intéressant de constater le retour de «vieux langages» comme C ou Fortran, appréciés en particulier pour leur capacité à se conformer à l'impératif énergétique actuel. Le recours à un langage proche de la machine permet en effet d'optimiser des applications sur du matériel peu coûteux et peu gourmand en énergie. \n",
    "\n",
    "La diffusion de plus en plus large de ces applications rend l'intégration de l'impact environnemental de l'informatique essentiel dans les stratégies de développement et les choix de langage. \n",
    "\n",
    "Le fil rouge environnemental guidera indéniablement l'évolution des langages pour les prochaines années.\n",
    "\n",
    "\n",
    "\n",
    "\n"
   ]
  }
 ],
 "metadata": {
  "interpreter": {
   "hash": "c3b061f701dfbdbc8b45ba2c04fdb4125b726d28f4bdc060c70fed5e5e2f8049"
  },
  "kernelspec": {
   "display_name": "Python 3.8.3 64-bit ('base': conda)",
   "name": "python3"
  },
  "language_info": {
   "name": "python",
   "version": ""
  }
 },
 "nbformat": 4,
 "nbformat_minor": 4
}
