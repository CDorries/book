{
 "cells": [
  {
   "cell_type": "markdown",
   "metadata": {},
   "source": [
    "# Structures de contrôle\n",
    "\n",
    "Jusqu'à maintenant un programme était une **séquence linéaire** d'instructions, les instructions s'exécutaient toutes, les unes après les autres, de haut en bas, chacune une fois. Dans cette section nous allons voir ces structures de contrôle:\n",
    "\n",
    "- les instructions conditionnelles\n",
    "- les boucles"
   ]
  },
  {
   "cell_type": "markdown",
   "metadata": {},
   "source": [
    "## Indentation \n",
    "<span commented>L'indentation</span><!-- REVIEW/JPP: Il me manque une transition en 2-3 phrases qui motive le besoin de parler d'indentation ici, si non c'est juste un autre truc pour lequel on demande au lecteur d'ingurgiter sans trop lui dire encore pourquoi  --> est un retrait du texte par rapport à la marge pouvant être insérée grâce à la touche tabulateur **TAB** (symbolisée par une flèche à gauche du clavier).\n",
    "\n",
    "Une suite d'instructions étant indentées de la même manière forme un bloc d'instructions. Ces blocs sont généralement utiles aux fonctions, aux instructions conditionnelles ou aux boucles."
   ]
  },
  {
   "cell_type": "code",
   "execution_count": 1,
   "metadata": {},
   "outputs": [
    {
     "name": "stdout",
     "output_type": "stream",
     "text": [
      "cours 0\n",
      "cours 1\n",
      "cours 2\n",
      "cours 3\n"
     ]
    }
   ],
   "source": [
    "age = 6\n",
    "if age < 10:\n",
    "    # bloc 'if'\n",
    "    tarif = 'jeune'\n",
    "    prix = 14\n",
    "    \n",
    "for i in range(4):\n",
    "    # bloc 'for'\n",
    "    print('cours',i)"
   ]
  },
  {
   "cell_type": "markdown",
   "metadata": {},
   "source": [
    "## Les instructions conditionnelles\n",
    "Une expression conditionnelle permet d'exécuter une suite d'instructions seulement si une condition est vraie. \n",
    "\n",
    "Nous rencontrons des dizaines de conditions par jour, ceci régit les actions que nous entreprenons. Par exemple: face à deux files d'attente au supermarché, nous allons nous diriger vers la file qui a le moins de clients. Concrètement, nous avons fait le test logique suivant: est-ce que le nombre de clients dans la file A est inférieur au nombre de clients dans la file B? Si la réponse à ce test logique est vraie, on se dirige vers la file A; sinon, on se dirige vers la file B."
   ]
  },
  {
   "cell_type": "markdown",
   "metadata": {},
   "source": [
    "### Les tests logiques\n",
    "Un test logique permet d'obtenir une valeur booléenne `True` ou `False` suite à une question qui serait posée à un certain moment du programme. Pour poser ces questions, nous devons utiliser un opérateur de comparaison ou un opérateur logique."
   ]
  },
  {
   "cell_type": "markdown",
   "metadata": {},
   "source": [
    "### Les <span commented>opérateurs de comparaison</span><!-- REVIEW/JPP: On a déjà passé en revue ces 6 opérateurs plus haut, il faudrait éviter les redites et décider d'où on décide de les mettre. Ma proposition serait de le faire ici et de ne pas en parler avant (finalement, on n'a pas vraiment besoin de générer des booléens si on n'a pas de test ou de boucle derrière) -->\n",
    "Un opérateur de comparaison compare deux valeurs. \n",
    "\n",
    " * `>` plus grand que\n",
    " * `<` plus petit que\n",
    " * `<=` plus petit ou égal à\n",
    " * `>=` plus grand ou égal à\n",
    " * `==` égal à\n",
    " * `!=` non égal à\n",
    "\n",
    "**Note**   \n",
    "Ne confondez pas l'opérateur d'_affectation_ `=`, qui affecte une valeur à une variable, et l'opérateur de _comparaison_ `==`, qui compare si deux valeurs sont égales.\n",
    "\n",
    "La question  \n",
    "*Est-ce que la valeur contenue dans la variable `a` est inférieur à 4?*   \n",
    "se transcrira comme suit:"
   ]
  },
  {
   "cell_type": "code",
   "execution_count": 2,
   "metadata": {},
   "outputs": [
    {
     "name": "stdout",
     "output_type": "stream",
     "text": [
      "True\n"
     ]
    }
   ],
   "source": [
    "a = 3\n",
    "print(a < 4)"
   ]
  },
  {
   "cell_type": "markdown",
   "metadata": {},
   "source": [
    "### L'instruction if\n",
    "L'instruction `if` permet d'exécuter un bloc d'instructions si une condition est vraie, sinon le programme suit son cours sans exécuter ce bloc.<!-- REVIEW/JPP: je propose d'avoir des admonitions spéciales pour bien faire ressortir les points de syntaxes qu'on voit au fur et à mesure. Ici par exemple, ce serait l'occasion d'insister sur l'importance du deux-points à la fin de la ligne. -->"
   ]
  },
  {
   "cell_type": "code",
   "execution_count": 3,
   "metadata": {},
   "outputs": [
    {
     "name": "stdout",
     "output_type": "stream",
     "text": [
      "6\n",
      "plus grand que 4\n",
      "suite du programme\n"
     ]
    }
   ],
   "source": [
    "a = 6\n",
    "if a > 4:\n",
    "    print(a)\n",
    "    print('plus grand que 4')\n",
    "print('suite du programme')"
   ]
  },
  {
   "cell_type": "markdown",
   "metadata": {},
   "source": [
    "Si la condition est fausse, le bloc conditionnel n'est pas exécuté."
   ]
  },
  {
   "cell_type": "code",
   "execution_count": 4,
   "metadata": {},
   "outputs": [
    {
     "name": "stdout",
     "output_type": "stream",
     "text": [
      "suite du programme\n"
     ]
    }
   ],
   "source": [
    "a = 2\n",
    "if a > 4:\n",
    "    print(a)\n",
    "    print('plus grand que 4')\n",
    "print('suite du programme')"
   ]
  },
  {
   "cell_type": "markdown",
   "metadata": {},
   "source": [
    "### L'instruction if...else\n",
    "L'instruction `if...else` permet de choisir entre deux blocs d'instructions selon une condition.\n",
    "Si la condition est vraie, le bloc **if** est exécuté; sinon, c'est le le bloc **else** qui est exécuté."
   ]
  },
  {
   "cell_type": "code",
   "execution_count": 5,
   "metadata": {},
   "outputs": [
    {
     "name": "stdout",
     "output_type": "stream",
     "text": [
      "la variable a est plus petite ou égale à 4\n"
     ]
    }
   ],
   "source": [
    "a = 3\n",
    "if a > 4:\n",
    "    print('la variable a est plus grande que 4')\n",
    "else:\n",
    "    print('la variable a est plus petite ou égale à 4')"
   ]
  },
  {
   "cell_type": "markdown",
   "metadata": {},
   "source": [
    "### L'instruction if...elif...else\n",
    "L'instruction `if...elif...else` permet d'exécuter un bloc d'instruction si une condition est vraie. Si la première condition n'est pas remplie, une autre est testée."
   ]
  },
  {
   "cell_type": "code",
   "execution_count": 1,
   "metadata": {},
   "outputs": [
    {
     "output_type": "stream",
     "name": "stdout",
     "text": [
      "Vous devez estimer la situation\n"
     ]
    }
   ],
   "source": [
    "feu = \"orange\"\n",
    "if feu == \"vert\":\n",
    "    print('Vous pouvez passer')\n",
    "elif feu == \"orange\":\n",
    "    print('Vous devez estimer la situation')\n",
    "elif feu == \"rouge\":\n",
    "    print('Vous ne pouvez pas passer')\n",
    "else:\n",
    "    print(\"La couleur du feu n'est pas conventionelle\")"
   ]
  },
  {
   "source": [
    "a = 3\n",
    "if a < 4:\n",
    "    print('la variable a est inférieure à 4')\n",
    "elif a == 3:\n",
    "    print('la variable a est égale à 3')\n",
    "elif a < 2:\n",
    "    print('la variable a est inférieure à 2')\n",
    "else:\n",
    "    print('la variable a est supérieure ou égale à 4')"
   ],
   "cell_type": "code",
   "metadata": {},
   "execution_count": 5,
   "outputs": [
    {
     "output_type": "stream",
     "name": "stdout",
     "text": [
      "la variable a est inférieure à 4\n"
     ]
    }
   ]
  },
  {
   "cell_type": "markdown",
   "metadata": {},
   "source": [
    "### Opérations logiques\n",
    "Pour pouvoir effectuer plusieurs tests logiques lors d'une instruction conditionnelle, il faudrait imbriquer les conditions ce qui rendrait le code difficile à lire et multiplierait le risque d'erreur lors de l'écriture. Les opérateurs logiques permettent d'éviter les instruction `if` en cascade en combinant plusieurs valeurs logiques. Ces opérateurs renvoient un booléen comme résultat. Nous avons les opérateurs logiques suivants:\n",
    "* `not`\n",
    "* `and`\n",
    "* `or`"
   ]
  },
  {
   "cell_type": "code",
   "execution_count": 6,
   "metadata": {},
   "outputs": [
    {
     "output_type": "stream",
     "name": "stdout",
     "text": [
      "Connexion autorisée!\n"
     ]
    }
   ],
   "source": [
    "username = 'Jean'\n",
    "password = 'abc1234'\n",
    "\n",
    "if username == 'Jean':\n",
    "    if password == 'abc1234':\n",
    "        print('Connexion autorisée!')\n",
    "    else:\n",
    "        print('Connexion refusée!')\n",
    "else:\n",
    "    print('Connexion refusée!')"
   ]
  },
  {
   "cell_type": "markdown",
   "metadata": {},
   "source": [
    "Dans l'exemple ci-dessus, nous voulons autoriser la connexion si le nom d'utilisateur **et** (and) si le mot de passe sont correcte. Nous pouvons donc utiliser une opération logique."
   ]
  },
  {
   "cell_type": "markdown",
   "metadata": {},
   "source": [
    "### NOT\n",
    "L'opération `not` <span commented>renvoie l'inverse de l'expression</span><!-- REVIEW/JPP: Les exemples donnés sont trop particuliers; c'est plus embrouillants qu'autre chose à ce stade. Il faudrait utiliser ces booléens générés par de vraies comparaisons plutôt que des constantes True et False. C'est difficile pour les novices de faire le lien entre une condition avec un opérateurs et une constante booléenne -->."
   ]
  },
  {
   "cell_type": "code",
   "execution_count": 8,
   "metadata": {},
   "outputs": [
    {
     "data": {
      "text/plain": [
       "False"
      ]
     },
     "execution_count": 8,
     "metadata": {},
     "output_type": "execute_result"
    }
   ],
   "source": [
    "not True"
   ]
  },
  {
   "cell_type": "code",
   "execution_count": 9,
   "metadata": {},
   "outputs": [
    {
     "data": {
      "text/plain": [
       "True"
      ]
     },
     "execution_count": 9,
     "metadata": {},
     "output_type": "execute_result"
    }
   ],
   "source": [
    "not False"
   ]
  },
  {
   "cell_type": "code",
   "execution_count": 7,
   "metadata": {},
   "outputs": [
    {
     "output_type": "execute_result",
     "data": {
      "text/plain": [
       "False"
      ]
     },
     "metadata": {},
     "execution_count": 7
    }
   ],
   "source": [
    "a = 4\n",
    "not a > 2\n",
    "# l'opération a > 2 est sensée retourner True mais l'opérateur not inverse le résultat"
   ]
  },
  {
   "cell_type": "markdown",
   "metadata": {},
   "source": [
    "### AND\n",
    "L'opération `and` renvoie `True` si les deux éléments de l'expression sont `True`."
   ]
  },
  {
   "cell_type": "code",
   "execution_count": 10,
   "metadata": {},
   "outputs": [
    {
     "data": {
      "text/plain": [
       "True"
      ]
     },
     "execution_count": 10,
     "metadata": {},
     "output_type": "execute_result"
    }
   ],
   "source": [
    "True and True"
   ]
  },
  {
   "cell_type": "code",
   "execution_count": 9,
   "metadata": {},
   "outputs": [
    {
     "output_type": "execute_result",
     "data": {
      "text/plain": [
       "True"
      ]
     },
     "metadata": {},
     "execution_count": 9
    }
   ],
   "source": [
    "a = 4\n",
    "b = 2\n",
    "a < 10 and b < 10"
   ]
  },
  {
   "cell_type": "markdown",
   "metadata": {},
   "source": [
    "Autrement elle renvoie `False`."
   ]
  },
  {
   "cell_type": "code",
   "execution_count": 11,
   "metadata": {},
   "outputs": [
    {
     "data": {
      "text/plain": [
       "False"
      ]
     },
     "execution_count": 11,
     "metadata": {},
     "output_type": "execute_result"
    }
   ],
   "source": [
    "True and False"
   ]
  },
  {
   "cell_type": "code",
   "execution_count": 12,
   "metadata": {},
   "outputs": [
    {
     "data": {
      "text/plain": [
       "False"
      ]
     },
     "execution_count": 12,
     "metadata": {},
     "output_type": "execute_result"
    }
   ],
   "source": [
    "False and True"
   ]
  },
  {
   "cell_type": "code",
   "execution_count": 13,
   "metadata": {},
   "outputs": [
    {
     "data": {
      "text/plain": [
       "False"
      ]
     },
     "execution_count": 13,
     "metadata": {},
     "output_type": "execute_result"
    }
   ],
   "source": [
    "False and False"
   ]
  },
  {
   "cell_type": "markdown",
   "metadata": {},
   "source": [
    "### OR\n",
    "L'opération `or` renvoie `True` si un des deux éléments de l'expression est `True`."
   ]
  },
  {
   "cell_type": "code",
   "execution_count": 14,
   "metadata": {},
   "outputs": [
    {
     "data": {
      "text/plain": [
       "True"
      ]
     },
     "execution_count": 14,
     "metadata": {},
     "output_type": "execute_result"
    }
   ],
   "source": [
    "True or True"
   ]
  },
  {
   "cell_type": "code",
   "execution_count": 15,
   "metadata": {},
   "outputs": [
    {
     "data": {
      "text/plain": [
       "True"
      ]
     },
     "execution_count": 15,
     "metadata": {},
     "output_type": "execute_result"
    }
   ],
   "source": [
    "True or False"
   ]
  },
  {
   "cell_type": "code",
   "execution_count": 10,
   "metadata": {},
   "outputs": [
    {
     "output_type": "execute_result",
     "data": {
      "text/plain": [
       "True"
      ]
     },
     "metadata": {},
     "execution_count": 10
    }
   ],
   "source": [
    "a = 4\n",
    "b = 2\n",
    "a == 4 or b > 10"
   ]
  },
  {
   "cell_type": "code",
   "execution_count": 16,
   "metadata": {},
   "outputs": [
    {
     "data": {
      "text/plain": [
       "True"
      ]
     },
     "execution_count": 16,
     "metadata": {},
     "output_type": "execute_result"
    }
   ],
   "source": [
    "False or True"
   ]
  },
  {
   "cell_type": "markdown",
   "metadata": {},
   "source": [
    "Autrement elle renvoie `False`."
   ]
  },
  {
   "cell_type": "code",
   "execution_count": 17,
   "metadata": {},
   "outputs": [
    {
     "data": {
      "text/plain": [
       "False"
      ]
     },
     "execution_count": 17,
     "metadata": {},
     "output_type": "execute_result"
    }
   ],
   "source": [
    "False or False"
   ]
  },
  {
   "cell_type": "markdown",
   "metadata": {},
   "source": [
    "En reprenant l'exemple ci-dessus, nous pouvons utiliser l'opération `and` pour simplifier le programme"
   ]
  },
  {
   "cell_type": "code",
   "execution_count": 18,
   "metadata": {},
   "outputs": [
    {
     "name": "stdout",
     "output_type": "stream",
     "text": [
      "Connexion autorisée!\n"
     ]
    }
   ],
   "source": [
    "username = 'Jean'\n",
    "password = 'abc1234'\n",
    "\n",
    "if username == 'Jean' and password == 'abc1234':\n",
    "    print('Connexion autorisée!')\n",
    "else:\n",
    "    print('Connexion refusée!')"
   ]
  },
  {
   "cell_type": "markdown",
   "metadata": {},
   "source": [
    "## Les boucles\n",
    "Les boucles permettent de répéter plusieurs fois un bloc d'instructions. On utilise: \n",
    "- la boucle `while` pour répéter des instructions selon une condition donnée.\n",
    "- la boucle `for` pour <span commented>itérer sur une séquence</span><!-- REVIEW/JPP: à mon avis, il ne comprennent bien ni itérer, ni séquence -->."
   ]
  },
  {
   "cell_type": "markdown",
   "metadata": {},
   "source": [
    "### La boucle while\n",
    "La boucle `while` exécute un bloc d'instruction tant qu'une condition est vraie. On peut retrouver une telle situation dans notre quotidien: tant que le feu est rouge, <span commented>je dois attendre</span><!-- REVIEW/JPP: je ne trouve pas l'exemple très parlant, car un bout code code identique consisterait à simplement affecter 20 à temperature. On pourrait faire qqch du genre afficher tous les multiples de 7 plus petits que 30, ou qqch comme ça. De plus, on n'a pas parlé des opérateurs de type op= comme += qui est utilisé ici. -->. "
   ]
  },
  {
   "cell_type": "code",
   "execution_count": 19,
   "metadata": {},
   "outputs": [
    {
     "name": "stdout",
     "output_type": "stream",
     "text": [
      "La température est de 20 degrés.\n"
     ]
    }
   ],
   "source": [
    "temperature = 4\n",
    "while temperature < 20:\n",
    "    temperature += 1\n",
    "\n",
    "print('La température est de', temperature, 'degrés.')    "
   ]
  },
  {
   "cell_type": "markdown",
   "metadata": {},
   "source": [
    "### La boucle for "
   ]
  },
  {
   "cell_type": "markdown",
   "metadata": {},
   "source": [
    "Une boucle `for` itère sur une séquence (<span commented>liste, chaine, plage de nombres, dictionnaire</span><!-- REVIEW/JPP: je trouve trop tôt de leur mentionner tout ça en vrac sans qu'on en ait parlé. On pourrait introduire 'for' dans une premier temps comme faisant un nombre d'itérations fixe avec range() et parler du reste plus tard uniquement. Nous avons aussi besoin de mieux comprendre range(), pour le moment, on part un peu du principe qu'on l'apprend par osmose... -->). La **variable d'itération** parcourt un par un tous les éléments de le séquence.\n",
    "\n",
    "Dans l'exemple suivant, la variable d'itération `i` parcourt la <span commented>plage numérique [0, 1, 2]</span><!-- REVIEW/JPP: on a besoin d'explication... il n'y a ni 0, ni 1, ni 2 dans le code suivant, comment est-ce qu'on en arrive à générer ça avec range(3)? C'est trop magique à ce stade -->."
   ]
  },
  {
   "cell_type": "code",
   "execution_count": 20,
   "metadata": {},
   "outputs": [
    {
     "name": "stdout",
     "output_type": "stream",
     "text": [
      "0\n",
      "1\n",
      "2\n"
     ]
    }
   ],
   "source": [
    "for i in range(3):\n",
    "    print(i)"
   ]
  },
  {
   "cell_type": "markdown",
   "metadata": {},
   "source": [
    "Nous pouvons utiliser la variable d'itération `i` pour faire un calcul, tel que calculer sa puissance."
   ]
  },
  {
   "cell_type": "code",
   "execution_count": 21,
   "metadata": {},
   "outputs": [
    {
     "name": "stdout",
     "output_type": "stream",
     "text": [
      "le carré de 1 est 1\n",
      "le carré de 2 est 4\n",
      "le carré de 3 est 9\n",
      "le carré de 4 est 16\n"
     ]
    }
   ],
   "source": [
    "for i in range(1, 5):\n",
    "    print('le carré de', i, 'est', i ** 2 )"
   ]
  },
  {
   "cell_type": "markdown",
   "metadata": {},
   "source": [
    "Avec une boucle, <span commented>il est possible de retranscrire un algorithme</span><!-- REVIEW/JPP: il faut reformuler ceci je pense. c'est trop général comme assertion -->. Ici, on calcule la <span commented>somme des entiers de 0 à n</span><!-- REVIEW/JPP: il y a trop d'implicite pour moi dans cet exemple. Rien que la variable somme qui est modifiée à chaque étape de la boucle, c'est énorme à conceptualiser, je trouve qu'on passe trop vite dessus -->\n",
    "\n",
    "$$ \\sum_{i=0}^n i = 0 + 1 + 2 + \\ldots{} + n $$"
   ]
  },
  {
   "cell_type": "code",
   "execution_count": 22,
   "metadata": {},
   "outputs": [
    {
     "name": "stdout",
     "output_type": "stream",
     "text": [
      "i = 0  somme = 0\n",
      "i = 1  somme = 1\n",
      "i = 2  somme = 3\n",
      "i = 3  somme = 6\n",
      "i = 4  somme = 10\n",
      "i = 5  somme = 15\n"
     ]
    }
   ],
   "source": [
    "n = 5\n",
    "somme = 0\n",
    "for i in range(n+1):\n",
    "    somme = somme + i\n",
    "    print('i =', i, ' somme =', somme)"
   ]
  },
  {
   "cell_type": "markdown",
   "metadata": {},
   "source": [
    "## Exercices"
   ]
  },
  {
   "cell_type": "markdown",
   "metadata": {},
   "source": [
    "### Ex\n",
    "Vérifiez si une variable `x` contient une valeur qui est entre deux bornes [a, b]."
   ]
  },
  {
   "cell_type": "markdown",
   "metadata": {},
   "source": [
    "### Ex\n",
    "Faites un programme qui pose une question simple à l'utilisateur. Si sa réponse est juste, <span commented>retournez</span><!-- REVIEW/JPP: proposition: affichez --> **Bravo !**"
   ]
  },
  {
   "cell_type": "markdown",
   "metadata": {},
   "source": [
    "### Ex\n",
    "Faites un programme qui demande à l'utilisateur son âge. <span commented>Si l'âge est supérieur ou égal à 18</span><!-- REVIEW/JPP: ceci demande de convertir un str en int, ce que nous n'avons pas fait -->, le programme doit afficher: \"Vous êtes majeur, vous pouvez voter\" et si l'âge est inférieur à 18, le programme doit afficher: \"Vous êtes mineur, vous pourrez voter dans (*calcul de la différence*) année(s)\""
   ]
  },
  {
   "cell_type": "markdown",
   "metadata": {},
   "source": [
    "### Ex\n",
    "Faites un programme qui demande à l'utilisateur un chiffre entre 0 et 2. Si l'utilisateur entre le chiffre 0, le programme doit <span commented>retourner</span><!-- REVIEW/JPP: afficher --> **Caillou**; si l'utilisateur entre le chiffre 1, le programme doit retourner **Feuille**; et si l'utilisateur entre le chiffre 2, le programme doit retourner **Ciseaux**."
   ]
  },
  {
   "cell_type": "markdown",
   "metadata": {},
   "source": [
    "### Ex\n",
    "Faites un programme qui affiche un carré de longueur `n` avec le caractère `'x'`. "
   ]
  },
  {
   "cell_type": "code",
   "execution_count": 23,
   "metadata": {
    "tags": [
     "hide-input"
    ]
   },
   "outputs": [
    {
     "name": "stdout",
     "output_type": "stream",
     "text": [
      "xxxxx\n",
      "xxxxx\n",
      "xxxxx\n",
      "xxxxx\n",
      "xxxxx\n"
     ]
    }
   ],
   "source": [
    "n = 5\n",
    "for i in range(n):\n",
    "    print('x' * n) "
   ]
  },
  {
   "cell_type": "markdown",
   "metadata": {},
   "source": [
    "### Ex\n",
    "Faites un programme qui affiche un triangle de hauteur `n` avec des `x`. "
   ]
  },
  {
   "cell_type": "code",
   "execution_count": 24,
   "metadata": {
    "tags": [
     "hide-input"
    ]
   },
   "outputs": [
    {
     "name": "stdout",
     "output_type": "stream",
     "text": [
      "x\n",
      "xx\n",
      "xxx\n",
      "xxxx\n",
      "xxxxx\n"
     ]
    }
   ],
   "source": [
    "n = 5\n",
    "for i in range(n):\n",
    "    print('x' * (i+1))"
   ]
  },
  {
   "cell_type": "markdown",
   "metadata": {},
   "source": [
    "### Ex\n",
    "Faites un programme qui affiche une boite de hauteur `a` et longueur `b` avec des `x`. L'intérieur de la boite doit rester vide. "
   ]
  },
  {
   "cell_type": "code",
   "execution_count": 25,
   "metadata": {
    "tags": [
     "hide-input"
    ]
   },
   "outputs": [
    {
     "name": "stdout",
     "output_type": "stream",
     "text": [
      "xxxxxxxxxxxxx\n",
      "x           x\n",
      "x           x\n",
      "x           x\n",
      "xxxxxxxxxxxxx\n"
     ]
    }
   ],
   "source": [
    "a = 5\n",
    "b = 13\n",
    "print('x' * b)\n",
    "for i in range(a - 2):\n",
    "    print('x' + ' '*(b-2) + 'x')\n",
    "print('x' * b)"
   ]
  }
 ],
 "metadata": {
  "celltoolbar": "Tags",
  "kernelspec": {
   "name": "python3",
   "display_name": "Python 3.9.0 64-bit"
  },
  "language_info": {
   "codemirror_mode": {
    "name": "ipython",
    "version": 3
   },
   "file_extension": ".py",
   "mimetype": "text/x-python",
   "name": "python",
   "nbconvert_exporter": "python",
   "pygments_lexer": "ipython3",
   "version": "3.9.0"
  },
  "interpreter": {
   "hash": "aee8b7b246df8f9039afb4144a1f6fd8d2ca17a180786b69acc140d282b71a49"
  }
 },
 "nbformat": 4,
 "nbformat_minor": 4
}